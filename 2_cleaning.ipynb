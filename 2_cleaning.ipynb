{
 "cells": [
  {
   "cell_type": "code",
   "execution_count": null,
   "metadata": {},
   "outputs": [],
   "source": [
    "import pandas as pd\n",
    "import numpy as np\n",
    "import re"
   ]
  },
  {
   "cell_type": "markdown",
   "metadata": {},
   "source": [
    "# Importing raw reddit data & removing special characters"
   ]
  },
  {
   "cell_type": "code",
   "execution_count": null,
   "metadata": {},
   "outputs": [],
   "source": [
    "creepy = pd.read_csv('data/creepy_df.csv')\n",
    "nosleep = pd.read_csv('data/nosleep_df.csv')"
   ]
  },
  {
   "cell_type": "code",
   "execution_count": null,
   "metadata": {},
   "outputs": [],
   "source": [
    "creepy.isnull().sum();"
   ]
  },
  {
   "cell_type": "code",
   "execution_count": null,
   "metadata": {},
   "outputs": [],
   "source": [
    "nosleep.isnull().sum();"
   ]
  },
  {
   "cell_type": "code",
   "execution_count": null,
   "metadata": {},
   "outputs": [],
   "source": [
    "creepy = creepy.fillna('')\n",
    "nosleep = nosleep.fillna('')"
   ]
  },
  {
   "cell_type": "code",
   "execution_count": null,
   "metadata": {},
   "outputs": [],
   "source": [
    "creepy['body'].replace(to_replace = ['[deleted]', '[removed]'], \n",
    "                          value = '',\n",
    "                          inplace=True)\n",
    "\n",
    "creepy['text'] = creepy['title'] + ': ' + creepy['body']\n",
    "creepy['target'] = 0\n",
    "creepy = creepy.drop(columns = ['title', 'score', 'id', 'url', 'comms_num', 'created', 'body'])\n"
   ]
  },
  {
   "cell_type": "code",
   "execution_count": null,
   "metadata": {},
   "outputs": [],
   "source": [
    "nosleep['body'].replace(to_replace = ['[deleted]', '[removed]'], \n",
    "                          value = '',\n",
    "                          inplace=True)\n",
    "\n",
    "nosleep['text'] = nosleep['title'] + ': ' + nosleep['body']\n",
    "nosleep['target'] = 1\n",
    "nosleep = nosleep.drop(columns = ['title', 'score', 'id', 'url', 'comms_num', 'created', 'body'])"
   ]
  },
  {
   "cell_type": "code",
   "execution_count": null,
   "metadata": {},
   "outputs": [],
   "source": [
    "nosleep.head();"
   ]
  },
  {
   "cell_type": "code",
   "execution_count": null,
   "metadata": {},
   "outputs": [],
   "source": [
    "nosleep.text = [re.sub('[^A-Za-z0-9!?]+', ' ', text) for text in nosleep.text]\n",
    "\n",
    "creepy.text = [re.sub('[^A-Za-z0-9!?]+', ' ', text) for text in creepy.text]"
   ]
  },
  {
   "cell_type": "code",
   "execution_count": null,
   "metadata": {},
   "outputs": [],
   "source": [
    "nosleep.shape"
   ]
  },
  {
   "cell_type": "code",
   "execution_count": null,
   "metadata": {},
   "outputs": [],
   "source": [
    "creepy.shape"
   ]
  },
  {
   "cell_type": "markdown",
   "metadata": {},
   "source": [
    "## checking for special characters"
   ]
  },
  {
   "cell_type": "code",
   "execution_count": null,
   "metadata": {},
   "outputs": [],
   "source": [
    "is_ascii_ns = nosleep['text'].apply(lambda s: len(s) == len(s.encode()))\n",
    "nosleep = nosleep.loc[is_ascii_ns,:]"
   ]
  },
  {
   "cell_type": "code",
   "execution_count": null,
   "metadata": {},
   "outputs": [],
   "source": [
    "nosleep.shape"
   ]
  },
  {
   "cell_type": "code",
   "execution_count": null,
   "metadata": {},
   "outputs": [],
   "source": [
    "is_ascii_cp = creepy['text'].apply(lambda s: len(s) == len(s.encode()))\n",
    "creepy = creepy.loc[is_ascii_cp,:]"
   ]
  },
  {
   "cell_type": "code",
   "execution_count": null,
   "metadata": {},
   "outputs": [],
   "source": [
    "creepy.shape"
   ]
  },
  {
   "cell_type": "code",
   "execution_count": null,
   "metadata": {},
   "outputs": [],
   "source": [
    "ascii_clean = pd.concat([creepy, nosleep])\n",
    "\n",
    "ascii_clean.to_csv(path_or_buf='data/ascii_clean.csv', index=False)"
   ]
  },
  {
   "cell_type": "code",
   "execution_count": null,
   "metadata": {},
   "outputs": [],
   "source": [
    "ascii_clean"
   ]
  },
  {
   "cell_type": "code",
   "execution_count": null,
   "metadata": {},
   "outputs": [],
   "source": []
  }
 ],
 "metadata": {
  "kernelspec": {
   "display_name": "Python 3",
   "language": "python",
   "name": "python3"
  },
  "language_info": {
   "codemirror_mode": {
    "name": "ipython",
    "version": 3
   },
   "file_extension": ".py",
   "mimetype": "text/x-python",
   "name": "python",
   "nbconvert_exporter": "python",
   "pygments_lexer": "ipython3",
   "version": "3.7.3"
  }
 },
 "nbformat": 4,
 "nbformat_minor": 2
}
