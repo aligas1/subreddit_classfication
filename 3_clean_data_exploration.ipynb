{
 "cells": [
  {
   "cell_type": "code",
   "execution_count": 1,
   "metadata": {},
   "outputs": [],
   "source": [
    "import pandas as pd\n",
    "import numpy as np\n",
    "\n",
    "from sklearn.linear_model import LogisticRegression\n",
    "from sklearn.tree import DecisionTreeClassifier\n",
    "from sklearn.ensemble import BaggingClassifier, RandomForestClassifier, ExtraTreesClassifier, GradientBoostingClassifier, AdaBoostClassifier\n",
    "from sklearn.svm import SVC\n",
    "\n",
    "from sklearn.feature_extraction.text import CountVectorizer, TfidfVectorizer, ENGLISH_STOP_WORDS\n",
    "\n",
    "from nltk.corpus import stopwords\n",
    "\n",
    "from sklearn.preprocessing import StandardScaler\n",
    "from sklearn.model_selection import train_test_split, GridSearchCV\n",
    "from sklearn.pipeline import Pipeline\n",
    "\n",
    "import matplotlib.pyplot as plt\n",
    "%matplotlib inline"
   ]
  },
  {
   "cell_type": "markdown",
   "metadata": {},
   "source": [
    "### In this notebook I gridsearched tfidf and Logistic regression for the the data cleaned in 3 different ways. I found that the corpus that wasn't stripped of special characters gave the best score (df3)"
   ]
  },
  {
   "cell_type": "code",
   "execution_count": 9,
   "metadata": {},
   "outputs": [],
   "source": [
    "df = pd.read_csv('data/ascii_clean.csv') "
   ]
  },
  {
   "cell_type": "code",
   "execution_count": 10,
   "metadata": {},
   "outputs": [],
   "source": [
    "X = df['text']\n",
    "y = df['target']\n",
    "\n",
    "X_train, X_test, y_train, y_test = train_test_split(X, y, \n",
    "                                                    test_size = 0.2,\n",
    "                                                    random_state=42)"
   ]
  },
  {
   "cell_type": "code",
   "execution_count": 11,
   "metadata": {},
   "outputs": [],
   "source": [
    "english_stop = list(ENGLISH_STOP_WORDS)"
   ]
  },
  {
   "cell_type": "code",
   "execution_count": null,
   "metadata": {},
   "outputs": [],
   "source": []
  },
  {
   "cell_type": "code",
   "execution_count": 12,
   "metadata": {},
   "outputs": [],
   "source": [
    "pipe_tvec = Pipeline(\n",
    "    [('tf', TfidfVectorizer()),\n",
    "     ('lr', LogisticRegression())]\n",
    "    ) \n",
    "\n",
    "pipe_params = {'tf__max_features': [None],\n",
    "               'tf__strip_accents': [None, 'ascii'], \n",
    "               'tf__stop_words': [stopwords.words(\"english\"), english_stop],\n",
    "               'tf__ngram_range': [(1,1), (1,2)],\n",
    "               'tf__min_df': [0.005, 1],\n",
    "             \n",
    "               'lr__solver': ['saga'],\n",
    "               'lr__penalty': ['l2'],\n",
    "               'lr__n_jobs': [-1]\n",
    "               }\n",
    "\n",
    "gs = GridSearchCV(pipe_tvec,\n",
    "                  param_grid=pipe_params, \n",
    "                  cv=5,\n",
    "                  verbose=1) "
   ]
  },
  {
   "cell_type": "code",
   "execution_count": 14,
   "metadata": {},
   "outputs": [
    {
     "name": "stdout",
     "output_type": "stream",
     "text": [
      "Fitting 5 folds for each of 16 candidates, totalling 80 fits\n"
     ]
    },
    {
     "name": "stderr",
     "output_type": "stream",
     "text": [
      "[Parallel(n_jobs=1)]: Using backend SequentialBackend with 1 concurrent workers.\n",
      "[Parallel(n_jobs=1)]: Done  80 out of  80 | elapsed:  8.9min finished\n"
     ]
    },
    {
     "name": "stdout",
     "output_type": "stream",
     "text": [
      "0.721375\n",
      "{'lr__n_jobs': -1, 'lr__penalty': 'l2', 'lr__solver': 'saga', 'tf__max_features': None, 'tf__min_df': 1, 'tf__ngram_range': (1, 1), 'tf__stop_words': ['who', 'themselves', 'namely', 'only', 'nobody', 'least', 'in', 'thus', 'we', 'nor', 'thereupon', 'out', 'de', 'that', 'cannot', 'anywhere', 'their', 'always', 'ever', 'from', 'system', 'thick', 'wherever', 'besides', 'amongst', 'either', 'sometime', 'yourselves', 'whereas', 'forty', 'move', 'indeed', 'until', 'afterwards', 'a', 'cant', 'inc', 'others', 'latter', 'hundred', 'had', 'full', 'on', 'bottom', 'could', 'throughout', 'together', 'anything', 'is', 'anyhow', 'then', 'ltd', 'nowhere', 'do', 'why', 'neither', 'ten', 'would', 'myself', 'some', 'below', 'per', 'one', 'perhaps', 'be', 'made', 'without', 'they', 'upon', 'something', 'even', 'were', 'though', 'except', 'toward', 'somehow', 'see', 'sometimes', 'much', 'but', 'cry', 'above', 'with', 'someone', 'beforehand', 'whenever', 'when', 'whole', 'etc', 'them', 'fifteen', 'becomes', 'mostly', 'seems', 'get', 'within', 'us', 'hereupon', 'alone', 're', 'due', 'fifty', 'whoever', 'must', 'the', 'noone', 'next', 'whether', 'wherein', 'into', 'give', 'am', 'co', 'not', 'his', 'yours', 'third', 'once', 'back', 'have', 'might', 'nothing', 'less', 'moreover', 'now', 'over', 'eleven', 'formerly', 'nine', 'seem', 'since', 'through', 'whose', 'or', 'ours', 'few', 'seeming', 'also', 'those', 'hasnt', 'between', 'eg', 'front', 'yourself', 'will', 'was', 'amount', 'twelve', 'during', 'own', 'otherwise', 'around', 'this', 'therefore', 'no', 'describe', 'thereby', 'thereafter', 'almost', 'there', 'empty', 'ourselves', 'been', 'although', 'it', 'our', 'rather', 'find', 'four', 'interest', 'among', 'my', 'yet', 'ie', 'if', 'too', 'should', 'often', 'under', 'whereafter', 'up', 'first', 'however', 'hers', 'are', 'enough', 'every', 'seemed', 'you', 'former', 'go', 'eight', 'becoming', 'detail', 'because', 'part', 'thru', 'before', 'thence', 'six', 'nevertheless', 'last', 'most', 'top', 'twenty', 'fire', 'both', 'i', 'down', 'against', 'while', 'what', 'latterly', 'further', 'sixty', 'therein', 'fill', 'whatever', 'whom', 'after', 'hereby', 'itself', 'beside', 'meanwhile', 'mill', 'than', 'she', 'here', 'these', 'onto', 'each', 'as', 'bill', 'amoungst', 'he', 'herein', 'its', 'which', 'and', 'side', 'couldnt', 'such', 'con', 'anyone', 'five', 'mine', 'another', 'name', 'off', 'across', 'please', 'very', 'elsewhere', 'him', 'already', 'more', 'put', 'two', 'un', 'everyone', 'done', 'an', 'behind', 'anyway', 'about', 'hence', 'for', 'take', 'other', 'me', 'call', 'none', 'show', 'else', 'serious', 'somewhere', 'became', 'any', 'via', 'your', 'beyond', 'by', 'how', 'so', 'sincere', 'towards', 'whither', 'three', 'thin', 'being', 'never', 'to', 'well', 'same', 'himself', 'again', 'of', 'has', 'whereby', 'whence', 'can', 'whereupon', 'all', 'keep', 'hereafter', 'everywhere', 'herself', 'become', 'everything', 'several', 'many', 'where', 'her', 'still', 'may', 'at', 'found', 'along'], 'tf__strip_accents': None}\n"
     ]
    }
   ],
   "source": [
    "gs.fit(X_train, y_train)\n",
    "print(gs.best_score_)\n",
    "print(gs.best_params_)"
   ]
  },
  {
   "cell_type": "code",
   "execution_count": null,
   "metadata": {},
   "outputs": [],
   "source": []
  },
  {
   "cell_type": "code",
   "execution_count": null,
   "metadata": {},
   "outputs": [],
   "source": []
  },
  {
   "cell_type": "code",
   "execution_count": null,
   "metadata": {},
   "outputs": [],
   "source": []
  },
  {
   "cell_type": "code",
   "execution_count": 19,
   "metadata": {},
   "outputs": [],
   "source": [
    "df2 = pd.read_csv('rg_clean.csv')"
   ]
  },
  {
   "cell_type": "code",
   "execution_count": 20,
   "metadata": {},
   "outputs": [],
   "source": [
    "X = df2['text']\n",
    "y = df2['target_col']\n",
    "\n",
    "X_train, X_test, y_train, y_test = train_test_split(X, y, \n",
    "                                                    test_size = 0.2,\n",
    "                                                    random_state=42)"
   ]
  },
  {
   "cell_type": "code",
   "execution_count": 21,
   "metadata": {},
   "outputs": [],
   "source": [
    "pipe_tvec = Pipeline(\n",
    "    [('tf', TfidfVectorizer()),\n",
    "     ('lr', LogisticRegression())]\n",
    "    ) \n",
    "\n",
    "pipe_params = {'tf__max_features': [None],\n",
    "               'tf__strip_accents': [None, 'ascii'], \n",
    "               'tf__stop_words': [stopwords.words(\"english\"), english_stop],\n",
    "               'tf__ngram_range': [(1,1), (1,2)],\n",
    "               'tf__min_df': [0.005, 1],\n",
    "             \n",
    "               'lr__solver': ['saga'],\n",
    "               'lr__penalty': ['l2'],\n",
    "               'lr__n_jobs': [-1]\n",
    "               }\n",
    "\n",
    "gs = GridSearchCV(pipe_tvec,\n",
    "                  param_grid=pipe_params, \n",
    "                  cv=5,\n",
    "                  verbose=1) "
   ]
  },
  {
   "cell_type": "code",
   "execution_count": 22,
   "metadata": {},
   "outputs": [
    {
     "name": "stdout",
     "output_type": "stream",
     "text": [
      "Fitting 5 folds for each of 16 candidates, totalling 80 fits\n"
     ]
    },
    {
     "name": "stderr",
     "output_type": "stream",
     "text": [
      "[Parallel(n_jobs=1)]: Using backend SequentialBackend with 1 concurrent workers.\n",
      "[Parallel(n_jobs=1)]: Done  80 out of  80 | elapsed:  8.9min finished\n"
     ]
    },
    {
     "name": "stdout",
     "output_type": "stream",
     "text": [
      "0.723375\n",
      "{'lr__n_jobs': -1, 'lr__penalty': 'l2', 'lr__solver': 'saga', 'tf__max_features': None, 'tf__min_df': 1, 'tf__ngram_range': (1, 1), 'tf__stop_words': ['i', 'me', 'my', 'myself', 'we', 'our', 'ours', 'ourselves', 'you', \"you're\", \"you've\", \"you'll\", \"you'd\", 'your', 'yours', 'yourself', 'yourselves', 'he', 'him', 'his', 'himself', 'she', \"she's\", 'her', 'hers', 'herself', 'it', \"it's\", 'its', 'itself', 'they', 'them', 'their', 'theirs', 'themselves', 'what', 'which', 'who', 'whom', 'this', 'that', \"that'll\", 'these', 'those', 'am', 'is', 'are', 'was', 'were', 'be', 'been', 'being', 'have', 'has', 'had', 'having', 'do', 'does', 'did', 'doing', 'a', 'an', 'the', 'and', 'but', 'if', 'or', 'because', 'as', 'until', 'while', 'of', 'at', 'by', 'for', 'with', 'about', 'against', 'between', 'into', 'through', 'during', 'before', 'after', 'above', 'below', 'to', 'from', 'up', 'down', 'in', 'out', 'on', 'off', 'over', 'under', 'again', 'further', 'then', 'once', 'here', 'there', 'when', 'where', 'why', 'how', 'all', 'any', 'both', 'each', 'few', 'more', 'most', 'other', 'some', 'such', 'no', 'nor', 'not', 'only', 'own', 'same', 'so', 'than', 'too', 'very', 's', 't', 'can', 'will', 'just', 'don', \"don't\", 'should', \"should've\", 'now', 'd', 'll', 'm', 'o', 're', 've', 'y', 'ain', 'aren', \"aren't\", 'couldn', \"couldn't\", 'didn', \"didn't\", 'doesn', \"doesn't\", 'hadn', \"hadn't\", 'hasn', \"hasn't\", 'haven', \"haven't\", 'isn', \"isn't\", 'ma', 'mightn', \"mightn't\", 'mustn', \"mustn't\", 'needn', \"needn't\", 'shan', \"shan't\", 'shouldn', \"shouldn't\", 'wasn', \"wasn't\", 'weren', \"weren't\", 'won', \"won't\", 'wouldn', \"wouldn't\"], 'tf__strip_accents': 'ascii'}\n"
     ]
    }
   ],
   "source": [
    "gs.fit(X_train, y_train)\n",
    "print(gs.best_score_)\n",
    "print(gs.best_params_)"
   ]
  },
  {
   "cell_type": "code",
   "execution_count": null,
   "metadata": {},
   "outputs": [],
   "source": []
  },
  {
   "cell_type": "code",
   "execution_count": 24,
   "metadata": {},
   "outputs": [],
   "source": [
    "df3 = pd.read_csv('data/clean_data.csv')"
   ]
  },
  {
   "cell_type": "code",
   "execution_count": 25,
   "metadata": {},
   "outputs": [],
   "source": [
    "X = df3['text']\n",
    "y = df3['target_col']\n",
    "\n",
    "X_train, X_test, y_train, y_test = train_test_split(X, y, \n",
    "                                                    test_size = 0.2,\n",
    "                                                    random_state=42)"
   ]
  },
  {
   "cell_type": "code",
   "execution_count": 17,
   "metadata": {},
   "outputs": [],
   "source": [
    "pipe_tvec = Pipeline(\n",
    "    [('tf', TfidfVectorizer()),\n",
    "     ('lr', LogisticRegression())]\n",
    "    ) \n",
    "\n",
    "pipe_params = {'tf__max_features': [None],\n",
    "               'tf__strip_accents': [None, 'ascii'], \n",
    "               'tf__stop_words': [stopwords.words(\"english\"), english_stop],\n",
    "               'tf__ngram_range': [(1,1), (1,2)],\n",
    "               'tf__min_df': [0.005, 1],\n",
    "             \n",
    "               'lr__solver': ['saga'],\n",
    "               'lr__penalty': ['l2'],\n",
    "               'lr__n_jobs': [-1]\n",
    "               }\n",
    "\n",
    "gs = GridSearchCV(pipe_tvec,\n",
    "                  param_grid=pipe_params, \n",
    "                  cv=5,\n",
    "                  verbose=1) "
   ]
  },
  {
   "cell_type": "code",
   "execution_count": 18,
   "metadata": {},
   "outputs": [
    {
     "name": "stdout",
     "output_type": "stream",
     "text": [
      "Fitting 5 folds for each of 16 candidates, totalling 80 fits\n"
     ]
    },
    {
     "name": "stderr",
     "output_type": "stream",
     "text": [
      "[Parallel(n_jobs=1)]: Using backend SequentialBackend with 1 concurrent workers.\n",
      "[Parallel(n_jobs=1)]: Done  80 out of  80 | elapsed:  8.9min finished\n"
     ]
    },
    {
     "name": "stdout",
     "output_type": "stream",
     "text": [
      "0.7235\n",
      "{'lr__n_jobs': -1, 'lr__penalty': 'l2', 'lr__solver': 'saga', 'tf__max_features': None, 'tf__min_df': 1, 'tf__ngram_range': (1, 1), 'tf__stop_words': ['i', 'me', 'my', 'myself', 'we', 'our', 'ours', 'ourselves', 'you', \"you're\", \"you've\", \"you'll\", \"you'd\", 'your', 'yours', 'yourself', 'yourselves', 'he', 'him', 'his', 'himself', 'she', \"she's\", 'her', 'hers', 'herself', 'it', \"it's\", 'its', 'itself', 'they', 'them', 'their', 'theirs', 'themselves', 'what', 'which', 'who', 'whom', 'this', 'that', \"that'll\", 'these', 'those', 'am', 'is', 'are', 'was', 'were', 'be', 'been', 'being', 'have', 'has', 'had', 'having', 'do', 'does', 'did', 'doing', 'a', 'an', 'the', 'and', 'but', 'if', 'or', 'because', 'as', 'until', 'while', 'of', 'at', 'by', 'for', 'with', 'about', 'against', 'between', 'into', 'through', 'during', 'before', 'after', 'above', 'below', 'to', 'from', 'up', 'down', 'in', 'out', 'on', 'off', 'over', 'under', 'again', 'further', 'then', 'once', 'here', 'there', 'when', 'where', 'why', 'how', 'all', 'any', 'both', 'each', 'few', 'more', 'most', 'other', 'some', 'such', 'no', 'nor', 'not', 'only', 'own', 'same', 'so', 'than', 'too', 'very', 's', 't', 'can', 'will', 'just', 'don', \"don't\", 'should', \"should've\", 'now', 'd', 'll', 'm', 'o', 're', 've', 'y', 'ain', 'aren', \"aren't\", 'couldn', \"couldn't\", 'didn', \"didn't\", 'doesn', \"doesn't\", 'hadn', \"hadn't\", 'hasn', \"hasn't\", 'haven', \"haven't\", 'isn', \"isn't\", 'ma', 'mightn', \"mightn't\", 'mustn', \"mustn't\", 'needn', \"needn't\", 'shan', \"shan't\", 'shouldn', \"shouldn't\", 'wasn', \"wasn't\", 'weren', \"weren't\", 'won', \"won't\", 'wouldn', \"wouldn't\"], 'tf__strip_accents': 'ascii'}\n"
     ]
    }
   ],
   "source": [
    "gs.fit(X_train, y_train)\n",
    "print(gs.best_score_)\n",
    "print(gs.best_params_)"
   ]
  },
  {
   "cell_type": "code",
   "execution_count": null,
   "metadata": {},
   "outputs": [],
   "source": []
  },
  {
   "cell_type": "markdown",
   "metadata": {},
   "source": []
  },
  {
   "cell_type": "markdown",
   "metadata": {},
   "source": [
    "## d3"
   ]
  },
  {
   "cell_type": "code",
   "execution_count": 31,
   "metadata": {},
   "outputs": [],
   "source": [
    "df3 = pd.read_csv('data/clean_data.csv')\n",
    "\n",
    "X = df3['text']\n",
    "y = df3['target_col']\n",
    "\n",
    "X_train, X_test, y_train, y_test = train_test_split(X, y, \n",
    "                                                    test_size = 0.2,\n",
    "                                                    random_state=42)"
   ]
  },
  {
   "cell_type": "code",
   "execution_count": 32,
   "metadata": {},
   "outputs": [],
   "source": [
    "tf = TfidfVectorizer(stop_words=stopwords.words(\"english\"),\n",
    "                     max_features=None,\n",
    "                     ngram_range=(1,1),\n",
    "                     strip_accents='ascii' \n",
    "                    )\n",
    "\n",
    "tf.fit(X_train)\n",
    "X_train_tf = tf.transform(X_train).todense()\n",
    "X_test_tf = tf.transform(X_test).todense()\n",
    "\n",
    "X_train_tf = tf.transform(X_train) #.todense()\n",
    "X_test_tf = tf.transform(X_test) "
   ]
  },
  {
   "cell_type": "code",
   "execution_count": 33,
   "metadata": {},
   "outputs": [
    {
     "data": {
      "text/plain": [
       "(0.87275, 0.7385)"
      ]
     },
     "execution_count": 33,
     "metadata": {},
     "output_type": "execute_result"
    }
   ],
   "source": [
    "lr = LogisticRegression(solver='saga')\n",
    "\n",
    "lr.fit(X_train_tf, y_train)\n",
    "(lr.score(X_train_tf, y_train), lr.score(X_test_tf, y_test))"
   ]
  },
  {
   "cell_type": "markdown",
   "metadata": {},
   "source": [
    "# df2"
   ]
  },
  {
   "cell_type": "code",
   "execution_count": 34,
   "metadata": {},
   "outputs": [],
   "source": [
    "df2 = pd.read_csv('rg_clean.csv')\n",
    "\n",
    "X = df2['text']\n",
    "y = df2['target_col']\n",
    "\n",
    "X_train, X_test, y_train, y_test = train_test_split(X, y, \n",
    "                                                    test_size = 0.2,\n",
    "                                                    random_state=42)"
   ]
  },
  {
   "cell_type": "code",
   "execution_count": 35,
   "metadata": {},
   "outputs": [],
   "source": [
    "tf = TfidfVectorizer(stop_words=stopwords.words(\"english\"),\n",
    "                     max_features=None,\n",
    "                     ngram_range=(1,1),\n",
    "                     strip_accents='ascii' \n",
    "                    )\n",
    "\n",
    "tf.fit(X_train)\n",
    "X_train_tf = tf.transform(X_train).todense()\n",
    "X_test_tf = tf.transform(X_test).todense()\n",
    "\n",
    "X_train_tf = tf.transform(X_train) #.todense()\n",
    "X_test_tf = tf.transform(X_test) "
   ]
  },
  {
   "cell_type": "code",
   "execution_count": 36,
   "metadata": {},
   "outputs": [
    {
     "data": {
      "text/plain": [
       "(0.87275, 0.7385)"
      ]
     },
     "execution_count": 36,
     "metadata": {},
     "output_type": "execute_result"
    }
   ],
   "source": [
    "lr = LogisticRegression(solver='saga')\n",
    "\n",
    "lr.fit(X_train_tf, y_train)\n",
    "(lr.score(X_train_tf, y_train), lr.score(X_test_tf, y_test))"
   ]
  },
  {
   "cell_type": "markdown",
   "metadata": {},
   "source": [
    "# df"
   ]
  },
  {
   "cell_type": "code",
   "execution_count": 40,
   "metadata": {},
   "outputs": [],
   "source": [
    "df = pd.read_csv('data/ascii_clean.csv') \n",
    "\n",
    "X = df['text']\n",
    "y = df['target']\n",
    "\n",
    "X_train, X_test, y_train, y_test = train_test_split(X, y, \n",
    "                                                    test_size = 0.2,\n",
    "                                                    random_state=42)"
   ]
  },
  {
   "cell_type": "code",
   "execution_count": 41,
   "metadata": {},
   "outputs": [],
   "source": [
    "tf = TfidfVectorizer(stop_words=stopwords.words(\"english\"),\n",
    "                     max_features=None,\n",
    "                     ngram_range=(1,1),\n",
    "                     strip_accents='ascii' \n",
    "                    )\n",
    "\n",
    "tf.fit(X_train)\n",
    "X_train_tf = tf.transform(X_train).todense()\n",
    "X_test_tf = tf.transform(X_test).todense()\n",
    "\n",
    "X_train_tf = tf.transform(X_train) #.todense()\n",
    "X_test_tf = tf.transform(X_test) "
   ]
  },
  {
   "cell_type": "code",
   "execution_count": 42,
   "metadata": {},
   "outputs": [
    {
     "data": {
      "text/plain": [
       "(0.87125, 0.7435)"
      ]
     },
     "execution_count": 42,
     "metadata": {},
     "output_type": "execute_result"
    }
   ],
   "source": [
    "lr = LogisticRegression(solver='saga')\n",
    "\n",
    "lr.fit(X_train_tf, y_train)\n",
    "(lr.score(X_train_tf, y_train), lr.score(X_test_tf, y_test))"
   ]
  },
  {
   "cell_type": "code",
   "execution_count": null,
   "metadata": {},
   "outputs": [],
   "source": []
  }
 ],
 "metadata": {
  "kernelspec": {
   "display_name": "Python 3",
   "language": "python",
   "name": "python3"
  },
  "language_info": {
   "codemirror_mode": {
    "name": "ipython",
    "version": 3
   },
   "file_extension": ".py",
   "mimetype": "text/x-python",
   "name": "python",
   "nbconvert_exporter": "python",
   "pygments_lexer": "ipython3",
   "version": "3.7.3"
  }
 },
 "nbformat": 4,
 "nbformat_minor": 2
}
