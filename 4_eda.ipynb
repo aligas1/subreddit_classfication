{
 "cells": [
  {
   "cell_type": "markdown",
   "metadata": {},
   "source": [
    "# EDA: word exploration "
   ]
  },
  {
   "cell_type": "code",
   "execution_count": 8,
   "metadata": {},
   "outputs": [],
   "source": [
    "import pandas as pd\n",
    "import numpy as np\n",
    "\n",
    "from sklearn.feature_extraction.text import CountVectorizer, ENGLISH_STOP_WORDS\n",
    "from sklearn.model_selection import train_test_split\n",
    "\n",
    "\n",
    "from nltk.corpus import stopwords\n",
    "\n",
    "import seaborn as sns\n",
    "import matplotlib.pyplot as plt\n",
    "%matplotlib inline"
   ]
  },
  {
   "cell_type": "code",
   "execution_count": 6,
   "metadata": {},
   "outputs": [],
   "source": [
    "df = pd.read_csv('data/clean_data.csv') #pick best data set "
   ]
  },
  {
   "cell_type": "code",
   "execution_count": 7,
   "metadata": {},
   "outputs": [],
   "source": [
    "X = df['text']\n",
    "y = df['target_col']\n",
    "\n",
    "X_train, X_test, y_train, y_test = train_test_split(X, y, \n",
    "                                                    test_size = 0.2,\n",
    "                                                    random_state=42)"
   ]
  },
  {
   "cell_type": "code",
   "execution_count": 3,
   "metadata": {},
   "outputs": [],
   "source": []
  },
  {
   "cell_type": "code",
   "execution_count": null,
   "metadata": {},
   "outputs": [],
   "source": []
  },
  {
   "cell_type": "code",
   "execution_count": 14,
   "metadata": {},
   "outputs": [],
   "source": [
    "#pick best params\n",
    "\n",
    "cv = CountVectorizer(stop_words=stopwords.words(\"english\"),\n",
    "                     max_features=None,\n",
    "                     ngram_range=(1,1),\n",
    "                     strip_accents='ascii' \n",
    "                    )\n",
    "\n",
    "df_features = pd.DataFrame(cv.fit_transform(df['text']).todense(), \\\n",
    "                          columns=cv.get_feature_names())\n",
    "# features.head()"
   ]
  },
  {
   "cell_type": "code",
   "execution_count": 16,
   "metadata": {},
   "outputs": [],
   "source": [
    "df_features;"
   ]
  },
  {
   "cell_type": "code",
   "execution_count": null,
   "metadata": {},
   "outputs": [],
   "source": []
  },
  {
   "cell_type": "code",
   "execution_count": 22,
   "metadata": {},
   "outputs": [],
   "source": [
    "cp = df_features.loc[df['target_col'] == 0,:].copy()\n",
    "ns = df_features.loc[df['target_col']== 1, :].copy()\n",
    "\n",
    "#check to see if these are seperate data frames"
   ]
  },
  {
   "cell_type": "code",
   "execution_count": 45,
   "metadata": {},
   "outputs": [
    {
     "data": {
      "text/plain": [
       "<matplotlib.axes._subplots.AxesSubplot at 0x1a1e1edc50>"
      ]
     },
     "execution_count": 45,
     "metadata": {},
     "output_type": "execute_result"
    },
    {
     "data": {
      "image/png": "[encoded data removed]",
      "text/plain": [
       "<Figure size 432x288 with 1 Axes>"
      ]
     },
     "metadata": {
      "needs_background": "light"
     },
     "output_type": "display_data"
    }
   ],
   "source": [
    "df_features.sum().sort_values(ascending=False).head(20).plot.barh(color='orange')"
   ]
  },
  {
   "cell_type": "code",
   "execution_count": 21,
   "metadata": {},
   "outputs": [],
   "source": [
    "common_words = df_features.sum().sort_values(ascending=False).head(20).index"
   ]
  },
  {
   "cell_type": "code",
   "execution_count": 24,
   "metadata": {},
   "outputs": [
    {
     "data": {
      "text/plain": [
       "<matplotlib.axes._subplots.AxesSubplot at 0x1a1c6a09e8>"
      ]
     },
     "execution_count": 24,
     "metadata": {},
     "output_type": "execute_result"
    },
    {
     "data": {
      "image/png": "[encoded data removed]",
      "text/plain": [
       "<Figure size 864x432 with 2 Axes>"
      ]
     },
     "metadata": {
      "needs_background": "light"
     },
     "output_type": "display_data"
    }
   ],
   "source": [
    "fig, (ax1, ax2) = plt.subplots(ncols=2, figsize=(12,6))\n",
    "\n",
    "cp[common_words].sum().plot.barh(ax=ax1, title='creepypasta', color='Black')\n",
    "\n",
    "ns[common_words].sum().plot.barh(ax=ax2, title='nosleep', color='red')"
   ]
  },
  {
   "cell_type": "code",
   "execution_count": 93,
   "metadata": {},
   "outputs": [
    {
     "data": {
      "text/plain": [
       "Index(['like', 'back', 'one', 'could', 'said', 'would', 'time', 'know', 'see',\n",
       "       'something', 'get', 'around', 'looked', 'door', 'even', 'eyes', 'still',\n",
       "       'room', 'got', 'us'],\n",
       "      dtype='object')"
      ]
     },
     "execution_count": 93,
     "metadata": {},
     "output_type": "execute_result"
    }
   ],
   "source": [
    "df_features.sum().sort_values(ascending=False).head(20).index"
   ]
  },
  {
   "cell_type": "code",
   "execution_count": 91,
   "metadata": {},
   "outputs": [
    {
     "data": {
      "text/plain": [
       "like         15739\n",
       "back         13445\n",
       "one          12820\n",
       "could        11524\n",
       "said         10796\n",
       "would         9979\n",
       "know          9540\n",
       "time          9358\n",
       "something     8153\n",
       "see           8055\n",
       "get           7731\n",
       "around        7399\n",
       "door          7285\n",
       "looked        7208\n",
       "even          7104\n",
       "eyes          6713\n",
       "us            6609\n",
       "still         6557\n",
       "didnt         6488\n",
       "room          6267\n",
       "dtype: int64"
      ]
     },
     "execution_count": 91,
     "metadata": {},
     "output_type": "execute_result"
    }
   ],
   "source": [
    "ns.sum().sort_values(ascending=False).head(20)"
   ]
  },
  {
   "cell_type": "code",
   "execution_count": null,
   "metadata": {},
   "outputs": [],
   "source": []
  },
  {
   "cell_type": "markdown",
   "metadata": {},
   "source": [
    "## Unique Words\n",
    "\n",
    "- got different results than presentation with differnt hyper parameters for count vec\n",
    "\n",
    "- specifically strip_accents='ascii'"
   ]
  },
  {
   "cell_type": "code",
   "execution_count": 52,
   "metadata": {},
   "outputs": [],
   "source": [
    "ns_df = df.loc[df['target_col']==1]\n",
    "cp_df = df.loc[df['target_col']==0]"
   ]
  },
  {
   "cell_type": "code",
   "execution_count": 55,
   "metadata": {},
   "outputs": [],
   "source": [
    "cv = CountVectorizer(stop_words=stopwords.words(\"english\"),\n",
    "                     max_features=None,\n",
    "                     ngram_range=(1,1),\n",
    "                     strip_accents='ascii' \n",
    "                    )\n",
    "\n",
    "cp_features = pd.DataFrame(cv.fit_transform(cp_df['text']).todense(), \\\n",
    "                          columns=cv.get_feature_names())\n",
    "\n",
    "ns_features = pd.DataFrame(cv.fit_transform(ns_df['text']).todense(), \\\n",
    "                          columns=cv.get_feature_names())"
   ]
  },
  {
   "cell_type": "code",
   "execution_count": 56,
   "metadata": {},
   "outputs": [
    {
     "data": {
      "text/plain": [
       "(5000, 38207)"
      ]
     },
     "execution_count": 56,
     "metadata": {},
     "output_type": "execute_result"
    }
   ],
   "source": [
    "cp_features.shape"
   ]
  },
  {
   "cell_type": "code",
   "execution_count": 57,
   "metadata": {},
   "outputs": [
    {
     "data": {
      "text/plain": [
       "(5000, 45819)"
      ]
     },
     "execution_count": 57,
     "metadata": {},
     "output_type": "execute_result"
    }
   ],
   "source": [
    "ns_features.shape"
   ]
  },
  {
   "cell_type": "code",
   "execution_count": 58,
   "metadata": {},
   "outputs": [],
   "source": [
    "ns_edit = []\n",
    "\n",
    "for i in ns_features: \n",
    "    ns_edit.append(i)"
   ]
  },
  {
   "cell_type": "code",
   "execution_count": 59,
   "metadata": {},
   "outputs": [],
   "source": [
    "cp_edit = []\n",
    "\n",
    "for i in cp_features: \n",
    "    cp_edit.append(i)"
   ]
  },
  {
   "cell_type": "code",
   "execution_count": 60,
   "metadata": {},
   "outputs": [],
   "source": [
    "ns_only = []\n",
    "\n",
    "for i in ns_edit:\n",
    "    if i not in cp_edit:\n",
    "        ns_only.append(i)"
   ]
  },
  {
   "cell_type": "code",
   "execution_count": 61,
   "metadata": {},
   "outputs": [],
   "source": [
    "cp_only = []\n",
    "\n",
    "for i in cp_edit:\n",
    "    if i not in ns_edit:\n",
    "        cp_only.append(i)"
   ]
  },
  {
   "cell_type": "code",
   "execution_count": 82,
   "metadata": {},
   "outputs": [],
   "source": [
    "# ns_features[cp_only].sum()\n",
    "# check to see if accurate"
   ]
  },
  {
   "cell_type": "code",
   "execution_count": 79,
   "metadata": {},
   "outputs": [
    {
     "data": {
      "text/plain": [
       "caliban    170\n",
       "mdash      162\n",
       "josie      135\n",
       "felipe     121\n",
       "launa      120\n",
       "tasha      103\n",
       "herring     98\n",
       "kentay      95\n",
       "charice     91\n",
       "cadriel     90\n",
       "dtype: int64"
      ]
     },
     "execution_count": 79,
     "metadata": {},
     "output_type": "execute_result"
    }
   ],
   "source": [
    "ns_features[ns_only].sum().sort_values(ascending=False).head(10)"
   ]
  },
  {
   "cell_type": "code",
   "execution_count": 89,
   "metadata": {},
   "outputs": [
    {
     "data": {
      "text/plain": [
       "nicki        166\n",
       "rhonnie      151\n",
       "una          104\n",
       "pashinyan     96\n",
       "su            92\n",
       "brindley      85\n",
       "para          75\n",
       "2ch           74\n",
       "gregg         66\n",
       "makiko        64\n",
       "dtype: int64"
      ]
     },
     "execution_count": 89,
     "metadata": {},
     "output_type": "execute_result"
    }
   ],
   "source": [
    "cp_features[cp_only].sum().sort_values(ascending=False).head(10)"
   ]
  },
  {
   "cell_type": "code",
   "execution_count": null,
   "metadata": {},
   "outputs": [],
   "source": []
  },
  {
   "cell_type": "code",
   "execution_count": null,
   "metadata": {},
   "outputs": [],
   "source": []
  }
 ],
 "metadata": {
  "kernelspec": {
   "display_name": "Python 3",
   "language": "python",
   "name": "python3"
  },
  "language_info": {
   "codemirror_mode": {
    "name": "ipython",
    "version": 3
   },
   "file_extension": ".py",
   "mimetype": "text/x-python",
   "name": "python",
   "nbconvert_exporter": "python",
   "pygments_lexer": "ipython3",
   "version": "3.7.3"
  }
 },
 "nbformat": 4,
 "nbformat_minor": 2
}
