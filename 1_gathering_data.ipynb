{
 "cells": [
  {
   "cell_type": "markdown",
   "metadata": {},
   "source": [
    "## Gathering Data"
   ]
  },
  {
   "cell_type": "code",
   "execution_count": 1,
   "metadata": {},
   "outputs": [],
   "source": [
    "import pandas as pd\n",
    "import praw\n",
    "from psaw import PushshiftAPI\n",
    "import time"
   ]
  },
  {
   "cell_type": "code",
   "execution_count": 2,
   "metadata": {},
   "outputs": [],
   "source": [
    "reddit = praw.Reddit(client_id = 'y45p1UGhNyNxnA',     # this is that personal use script key\n",
    "                     client_secret = 'JaLr3ExpFi_1Dyi2BxqG2dblycQ', # this is that secret key\n",
    "                     user_agent = 'project_3',    # Whatever name you gave your application\n",
    "                     username = 'a4444999',      # your Reddit user name\n",
    "                     password = 'Lodz1966')      # your Reddit password"
   ]
  },
  {
   "cell_type": "code",
   "execution_count": 3,
   "metadata": {},
   "outputs": [],
   "source": [
    "api = PushshiftAPI(reddit)\n",
    "\n",
    "#godddamn it when you get home, delete the creepy and pasta csvs, rerun this and resave bc its all fucked!!!!!!"
   ]
  },
  {
   "cell_type": "markdown",
   "metadata": {},
   "source": [
    "### r/creepypasta"
   ]
  },
  {
   "cell_type": "code",
   "execution_count": 4,
   "metadata": {},
   "outputs": [
    {
     "name": "stdout",
     "output_type": "stream",
     "text": [
      "100\n",
      "200\n",
      "300\n",
      "400\n",
      "500\n",
      "600\n",
      "700\n",
      "800\n",
      "900\n",
      "1000\n",
      "1100\n",
      "1200\n",
      "1300\n",
      "1400\n",
      "1500\n",
      "1600\n",
      "1700\n",
      "1800\n",
      "1900\n",
      "2000\n",
      "2100\n",
      "2200\n",
      "2300\n",
      "2400\n",
      "2500\n",
      "2600\n",
      "2700\n",
      "2800\n",
      "2900\n",
      "3000\n",
      "3100\n",
      "3200\n",
      "3300\n",
      "3400\n",
      "3500\n",
      "3600\n",
      "3700\n",
      "3800\n",
      "3900\n",
      "4000\n",
      "4100\n",
      "4200\n",
      "4300\n",
      "4400\n",
      "4500\n",
      "4600\n",
      "4700\n",
      "4800\n",
      "4900\n",
      "5000\n"
     ]
    }
   ],
   "source": [
    "topics_dict = { \"title\":[],\n",
    "            \"score\":[],\n",
    "            \"id\":[],\n",
    "            \"url\":[], \n",
    "            \"comms_num\": [],\n",
    "            \"created\": [],\n",
    "            \"body\":[]\n",
    "              }\n",
    "\n",
    "counter = 0 # initializing counting variable\n",
    "sleep_counter = 0 # initializing sleep_counter variable\n",
    "for item in api.search_submissions(subreddit='creepypasta', limit=5_000):\n",
    "    topics_dict[\"title\"].append(item.title)\n",
    "    topics_dict[\"score\"].append(item.score)\n",
    "    topics_dict[\"id\"].append(item.id)\n",
    "    topics_dict[\"url\"].append(item.url)\n",
    "    topics_dict[\"comms_num\"].append(item.num_comments)\n",
    "    topics_dict[\"created\"].append(item.created)\n",
    "    topics_dict[\"body\"].append(item.selftext)\n",
    "    counter +=1\n",
    "    sleep_counter += 1\n",
    "    if sleep_counter > 99:\n",
    "        print(counter)\n",
    "        time.sleep(3)\n",
    "        sleep_counter = 0"
   ]
  },
  {
   "cell_type": "code",
   "execution_count": 5,
   "metadata": {},
   "outputs": [
    {
     "data": {
      "text/plain": [
       "(5000,)"
      ]
     },
     "execution_count": 5,
     "metadata": {},
     "output_type": "execute_result"
    }
   ],
   "source": [
    "creepy_df = pd.DataFrame(topics_dict)\n",
    "creepy_df['body'].shape"
   ]
  },
  {
   "cell_type": "code",
   "execution_count": 6,
   "metadata": {},
   "outputs": [],
   "source": [
    "creepy_df.to_csv(path_or_buf='data/creepy_df.csv', index=False)\n",
    "#index=False Unnamed doesn't show!! "
   ]
  },
  {
   "cell_type": "code",
   "execution_count": 7,
   "metadata": {},
   "outputs": [
    {
     "data": {
      "text/html": [
       "<div>\n",
       "<style scoped>\n",
       "    .dataframe tbody tr th:only-of-type {\n",
       "        vertical-align: middle;\n",
       "    }\n",
       "\n",
       "    .dataframe tbody tr th {\n",
       "        vertical-align: top;\n",
       "    }\n",
       "\n",
       "    .dataframe thead th {\n",
       "        text-align: right;\n",
       "    }\n",
       "</style>\n",
       "<table border=\"1\" class=\"dataframe\">\n",
       "  <thead>\n",
       "    <tr style=\"text-align: right;\">\n",
       "      <th></th>\n",
       "      <th>title</th>\n",
       "      <th>score</th>\n",
       "      <th>id</th>\n",
       "      <th>url</th>\n",
       "      <th>comms_num</th>\n",
       "      <th>created</th>\n",
       "      <th>body</th>\n",
       "    </tr>\n",
       "  </thead>\n",
       "  <tbody>\n",
       "    <tr>\n",
       "      <td>0</td>\n",
       "      <td>I woke up with broken ankles.</td>\n",
       "      <td>2</td>\n",
       "      <td>dhy5jr</td>\n",
       "      <td>https://www.reddit.com/r/creepypasta/comments/...</td>\n",
       "      <td>0</td>\n",
       "      <td>1.571120e+09</td>\n",
       "      <td>Three days ago I woke up with broken ankles. T...</td>\n",
       "    </tr>\n",
       "    <tr>\n",
       "      <td>1</td>\n",
       "      <td>Where did I come from?</td>\n",
       "      <td>1</td>\n",
       "      <td>dhxy47</td>\n",
       "      <td>https://www.reddit.com/r/creepypasta/comments/...</td>\n",
       "      <td>0</td>\n",
       "      <td>1.571120e+09</td>\n",
       "      <td>My name is Troy Finch and I don't know why or ...</td>\n",
       "    </tr>\n",
       "    <tr>\n",
       "      <td>2</td>\n",
       "      <td>If you get a text from this number never respo...</td>\n",
       "      <td>2</td>\n",
       "      <td>dhx7iw</td>\n",
       "      <td>https://thestonkmarket.com/2019/10/14/if-you-g...</td>\n",
       "      <td>0</td>\n",
       "      <td>1.571116e+09</td>\n",
       "      <td></td>\n",
       "    </tr>\n",
       "    <tr>\n",
       "      <td>3</td>\n",
       "      <td>The Playground Creepypasta</td>\n",
       "      <td>1</td>\n",
       "      <td>dhwxto</td>\n",
       "      <td>https://www.reddit.com/r/creepypasta/comments/...</td>\n",
       "      <td>0</td>\n",
       "      <td>1.571115e+09</td>\n",
       "      <td>Hello my name is Kevin and this is a story tha...</td>\n",
       "    </tr>\n",
       "    <tr>\n",
       "      <td>4</td>\n",
       "      <td>My Unwilling Contribution to Science</td>\n",
       "      <td>1</td>\n",
       "      <td>dhvkub</td>\n",
       "      <td>https://www.reddit.com/r/creepypasta/comments/...</td>\n",
       "      <td>0</td>\n",
       "      <td>1.571110e+09</td>\n",
       "      <td>\\n \\nMy name is Oscar Bandas. Don’t ask me whe...</td>\n",
       "    </tr>\n",
       "  </tbody>\n",
       "</table>\n",
       "</div>"
      ],
      "text/plain": [
       "                                               title  score      id  \\\n",
       "0                      I woke up with broken ankles.      2  dhy5jr   \n",
       "1                             Where did I come from?      1  dhxy47   \n",
       "2  If you get a text from this number never respo...      2  dhx7iw   \n",
       "3                         The Playground Creepypasta      1  dhwxto   \n",
       "4               My Unwilling Contribution to Science      1  dhvkub   \n",
       "\n",
       "                                                 url  comms_num       created  \\\n",
       "0  https://www.reddit.com/r/creepypasta/comments/...          0  1.571120e+09   \n",
       "1  https://www.reddit.com/r/creepypasta/comments/...          0  1.571120e+09   \n",
       "2  https://thestonkmarket.com/2019/10/14/if-you-g...          0  1.571116e+09   \n",
       "3  https://www.reddit.com/r/creepypasta/comments/...          0  1.571115e+09   \n",
       "4  https://www.reddit.com/r/creepypasta/comments/...          0  1.571110e+09   \n",
       "\n",
       "                                                body  \n",
       "0  Three days ago I woke up with broken ankles. T...  \n",
       "1  My name is Troy Finch and I don't know why or ...  \n",
       "2                                                     \n",
       "3  Hello my name is Kevin and this is a story tha...  \n",
       "4  \\n \\nMy name is Oscar Bandas. Don’t ask me whe...  "
      ]
     },
     "execution_count": 7,
     "metadata": {},
     "output_type": "execute_result"
    }
   ],
   "source": [
    "creepy_df.head()"
   ]
  },
  {
   "cell_type": "code",
   "execution_count": 8,
   "metadata": {},
   "outputs": [],
   "source": [
    "#creepy_df['body'].value_counts().sort_values(ascending=False)"
   ]
  },
  {
   "cell_type": "code",
   "execution_count": 9,
   "metadata": {},
   "outputs": [],
   "source": [
    "creepy_df['body'].replace(to_replace = ['[deleted]', '[removed]'], \n",
    "                          value = '',\n",
    "                          inplace=True)"
   ]
  },
  {
   "cell_type": "code",
   "execution_count": 10,
   "metadata": {},
   "outputs": [],
   "source": [
    "#combine body and head "
   ]
  },
  {
   "cell_type": "code",
   "execution_count": 11,
   "metadata": {},
   "outputs": [],
   "source": [
    "creepy_df['creepypasta'] = creepy_df['title'] + ': ' + creepy_df['body']"
   ]
  },
  {
   "cell_type": "code",
   "execution_count": 12,
   "metadata": {},
   "outputs": [],
   "source": [
    "creepy_df['taget_col'] = 0"
   ]
  },
  {
   "cell_type": "code",
   "execution_count": 13,
   "metadata": {},
   "outputs": [
    {
     "data": {
      "text/plain": [
       "Index(['title', 'score', 'id', 'url', 'comms_num', 'created', 'body',\n",
       "       'creepypasta', 'taget_col'],\n",
       "      dtype='object')"
      ]
     },
     "execution_count": 13,
     "metadata": {},
     "output_type": "execute_result"
    }
   ],
   "source": [
    "creepy_df.columns"
   ]
  },
  {
   "cell_type": "code",
   "execution_count": 14,
   "metadata": {},
   "outputs": [],
   "source": [
    "creepy_df = creepy_df.drop(columns = ['title', 'score', 'id', 'url', 'comms_num', 'created', 'body'])"
   ]
  },
  {
   "cell_type": "code",
   "execution_count": 15,
   "metadata": {
    "scrolled": true
   },
   "outputs": [
    {
     "data": {
      "text/plain": [
       "(5000, 2)"
      ]
     },
     "execution_count": 15,
     "metadata": {},
     "output_type": "execute_result"
    }
   ],
   "source": [
    "creepy_df.shape"
   ]
  },
  {
   "cell_type": "code",
   "execution_count": 16,
   "metadata": {},
   "outputs": [
    {
     "data": {
      "text/html": [
       "<div>\n",
       "<style scoped>\n",
       "    .dataframe tbody tr th:only-of-type {\n",
       "        vertical-align: middle;\n",
       "    }\n",
       "\n",
       "    .dataframe tbody tr th {\n",
       "        vertical-align: top;\n",
       "    }\n",
       "\n",
       "    .dataframe thead th {\n",
       "        text-align: right;\n",
       "    }\n",
       "</style>\n",
       "<table border=\"1\" class=\"dataframe\">\n",
       "  <thead>\n",
       "    <tr style=\"text-align: right;\">\n",
       "      <th></th>\n",
       "      <th>creepypasta</th>\n",
       "      <th>taget_col</th>\n",
       "    </tr>\n",
       "  </thead>\n",
       "  <tbody>\n",
       "    <tr>\n",
       "      <td>0</td>\n",
       "      <td>I woke up with broken ankles.: Three days ago ...</td>\n",
       "      <td>0</td>\n",
       "    </tr>\n",
       "    <tr>\n",
       "      <td>1</td>\n",
       "      <td>Where did I come from?: My name is Troy Finch ...</td>\n",
       "      <td>0</td>\n",
       "    </tr>\n",
       "    <tr>\n",
       "      <td>2</td>\n",
       "      <td>If you get a text from this number never respo...</td>\n",
       "      <td>0</td>\n",
       "    </tr>\n",
       "    <tr>\n",
       "      <td>3</td>\n",
       "      <td>The Playground Creepypasta: Hello my name is K...</td>\n",
       "      <td>0</td>\n",
       "    </tr>\n",
       "    <tr>\n",
       "      <td>4</td>\n",
       "      <td>My Unwilling Contribution to Science: \\n \\nMy ...</td>\n",
       "      <td>0</td>\n",
       "    </tr>\n",
       "  </tbody>\n",
       "</table>\n",
       "</div>"
      ],
      "text/plain": [
       "                                         creepypasta  taget_col\n",
       "0  I woke up with broken ankles.: Three days ago ...          0\n",
       "1  Where did I come from?: My name is Troy Finch ...          0\n",
       "2  If you get a text from this number never respo...          0\n",
       "3  The Playground Creepypasta: Hello my name is K...          0\n",
       "4  My Unwilling Contribution to Science: \\n \\nMy ...          0"
      ]
     },
     "execution_count": 16,
     "metadata": {},
     "output_type": "execute_result"
    }
   ],
   "source": [
    "creepy_df.head()"
   ]
  },
  {
   "cell_type": "markdown",
   "metadata": {},
   "source": [
    "### r/nosleep"
   ]
  },
  {
   "cell_type": "code",
   "execution_count": 17,
   "metadata": {},
   "outputs": [
    {
     "name": "stdout",
     "output_type": "stream",
     "text": [
      "100\n",
      "200\n",
      "300\n",
      "400\n",
      "500\n",
      "600\n",
      "700\n",
      "800\n",
      "900\n",
      "1000\n",
      "1100\n",
      "1200\n",
      "1300\n",
      "1400\n",
      "1500\n",
      "1600\n",
      "1700\n",
      "1800\n",
      "1900\n",
      "2000\n",
      "2100\n",
      "2200\n",
      "2300\n",
      "2400\n",
      "2500\n",
      "2600\n",
      "2700\n",
      "2800\n",
      "2900\n",
      "3000\n",
      "3100\n",
      "3200\n",
      "3300\n",
      "3400\n",
      "3500\n",
      "3600\n",
      "3700\n",
      "3800\n",
      "3900\n",
      "4000\n",
      "4100\n",
      "4200\n",
      "4300\n",
      "4400\n",
      "4500\n",
      "4600\n",
      "4700\n",
      "4800\n",
      "4900\n",
      "5000\n"
     ]
    }
   ],
   "source": [
    "topics_dict = { \"title\":[],\n",
    "            \"score\":[],\n",
    "            \"id\":[],\n",
    "            \"url\":[], \n",
    "            \"comms_num\": [],\n",
    "            \"created\": [],\n",
    "            \"body\":[]\n",
    "              }\n",
    "counter = 0 # initializing counting variable\n",
    "sleep_counter = 0 # initializing sleep_counter variable\n",
    "for item in api.search_submissions(subreddit='nosleep', limit=5_000):\n",
    "    topics_dict[\"title\"].append(item.title)\n",
    "    topics_dict[\"score\"].append(item.score)\n",
    "    topics_dict[\"id\"].append(item.id)\n",
    "    topics_dict[\"url\"].append(item.url)\n",
    "    topics_dict[\"comms_num\"].append(item.num_comments)\n",
    "    topics_dict[\"created\"].append(item.created)\n",
    "    topics_dict[\"body\"].append(item.selftext)\n",
    "    counter +=1\n",
    "    sleep_counter += 1\n",
    "    if sleep_counter > 99:\n",
    "        print(counter)\n",
    "        time.sleep(3)\n",
    "        sleep_counter = 0"
   ]
  },
  {
   "cell_type": "code",
   "execution_count": 18,
   "metadata": {},
   "outputs": [
    {
     "data": {
      "text/plain": [
       "(5000,)"
      ]
     },
     "execution_count": 18,
     "metadata": {},
     "output_type": "execute_result"
    }
   ],
   "source": [
    "nosleep_df = pd.DataFrame(topics_dict)\n",
    "nosleep_df['body'].shape"
   ]
  },
  {
   "cell_type": "code",
   "execution_count": 19,
   "metadata": {},
   "outputs": [
    {
     "data": {
      "text/html": [
       "<div>\n",
       "<style scoped>\n",
       "    .dataframe tbody tr th:only-of-type {\n",
       "        vertical-align: middle;\n",
       "    }\n",
       "\n",
       "    .dataframe tbody tr th {\n",
       "        vertical-align: top;\n",
       "    }\n",
       "\n",
       "    .dataframe thead th {\n",
       "        text-align: right;\n",
       "    }\n",
       "</style>\n",
       "<table border=\"1\" class=\"dataframe\">\n",
       "  <thead>\n",
       "    <tr style=\"text-align: right;\">\n",
       "      <th></th>\n",
       "      <th>title</th>\n",
       "      <th>score</th>\n",
       "      <th>id</th>\n",
       "      <th>url</th>\n",
       "      <th>comms_num</th>\n",
       "      <th>created</th>\n",
       "      <th>body</th>\n",
       "    </tr>\n",
       "  </thead>\n",
       "  <tbody>\n",
       "    <tr>\n",
       "      <td>0</td>\n",
       "      <td>Name for the Same</td>\n",
       "      <td>1</td>\n",
       "      <td>dhyks9</td>\n",
       "      <td>https://www.reddit.com/r/nosleep/comments/dhyk...</td>\n",
       "      <td>0</td>\n",
       "      <td>1.571122e+09</td>\n",
       "      <td>\\nWhatever else I tell you, whatever else you ...</td>\n",
       "    </tr>\n",
       "    <tr>\n",
       "      <td>1</td>\n",
       "      <td>Im stuck in a school with [REDACTED]</td>\n",
       "      <td>1</td>\n",
       "      <td>dhyf9f</td>\n",
       "      <td>https://www.reddit.com/r/nosleep/comments/dhyf...</td>\n",
       "      <td>1</td>\n",
       "      <td>1.571122e+09</td>\n",
       "      <td>[removed]</td>\n",
       "    </tr>\n",
       "    <tr>\n",
       "      <td>2</td>\n",
       "      <td>Superstitious Tradesman?</td>\n",
       "      <td>1</td>\n",
       "      <td>dhy7g6</td>\n",
       "      <td>https://www.reddit.com/r/nosleep/comments/dhy7...</td>\n",
       "      <td>0</td>\n",
       "      <td>1.571121e+09</td>\n",
       "      <td>I am a Plumbers apprentice from Cape Cod, MA- ...</td>\n",
       "    </tr>\n",
       "    <tr>\n",
       "      <td>3</td>\n",
       "      <td>log 01. im not crazy TY9932.oaw</td>\n",
       "      <td>1</td>\n",
       "      <td>dhy35s</td>\n",
       "      <td>https://www.reddit.com/r/nosleep/comments/dhy3...</td>\n",
       "      <td>1</td>\n",
       "      <td>1.571120e+09</td>\n",
       "      <td>[removed]</td>\n",
       "    </tr>\n",
       "    <tr>\n",
       "      <td>4</td>\n",
       "      <td>Souvenirs</td>\n",
       "      <td>2</td>\n",
       "      <td>dhxy4k</td>\n",
       "      <td>https://www.reddit.com/r/nosleep/comments/dhxy...</td>\n",
       "      <td>0</td>\n",
       "      <td>1.571120e+09</td>\n",
       "      <td>Somehow, I knew it would be a bad idea. So why...</td>\n",
       "    </tr>\n",
       "  </tbody>\n",
       "</table>\n",
       "</div>"
      ],
      "text/plain": [
       "                                  title  score      id  \\\n",
       "0                     Name for the Same      1  dhyks9   \n",
       "1  Im stuck in a school with [REDACTED]      1  dhyf9f   \n",
       "2              Superstitious Tradesman?      1  dhy7g6   \n",
       "3       log 01. im not crazy TY9932.oaw      1  dhy35s   \n",
       "4                             Souvenirs      2  dhxy4k   \n",
       "\n",
       "                                                 url  comms_num       created  \\\n",
       "0  https://www.reddit.com/r/nosleep/comments/dhyk...          0  1.571122e+09   \n",
       "1  https://www.reddit.com/r/nosleep/comments/dhyf...          1  1.571122e+09   \n",
       "2  https://www.reddit.com/r/nosleep/comments/dhy7...          0  1.571121e+09   \n",
       "3  https://www.reddit.com/r/nosleep/comments/dhy3...          1  1.571120e+09   \n",
       "4  https://www.reddit.com/r/nosleep/comments/dhxy...          0  1.571120e+09   \n",
       "\n",
       "                                                body  \n",
       "0  \\nWhatever else I tell you, whatever else you ...  \n",
       "1                                          [removed]  \n",
       "2  I am a Plumbers apprentice from Cape Cod, MA- ...  \n",
       "3                                          [removed]  \n",
       "4  Somehow, I knew it would be a bad idea. So why...  "
      ]
     },
     "execution_count": 19,
     "metadata": {},
     "output_type": "execute_result"
    }
   ],
   "source": [
    "nosleep_df.head()"
   ]
  },
  {
   "cell_type": "code",
   "execution_count": 20,
   "metadata": {},
   "outputs": [],
   "source": [
    "nosleep_df.to_csv(path_or_buf='data/nosleep_df.csv', index=False)"
   ]
  },
  {
   "cell_type": "code",
   "execution_count": 21,
   "metadata": {},
   "outputs": [],
   "source": [
    "nosleep_df['body'].replace(to_replace = ['[deleted]', '[removed]'],\n",
    "                     value = '',\n",
    "                     inplace=True)"
   ]
  },
  {
   "cell_type": "code",
   "execution_count": 22,
   "metadata": {},
   "outputs": [],
   "source": [
    "nosleep_df['no_sleep'] = nosleep_df['title'] + ': ' + nosleep_df['body']"
   ]
  },
  {
   "cell_type": "code",
   "execution_count": 23,
   "metadata": {},
   "outputs": [],
   "source": [
    "nosleep_df['taget_col'] = 1"
   ]
  },
  {
   "cell_type": "code",
   "execution_count": 24,
   "metadata": {},
   "outputs": [
    {
     "data": {
      "text/plain": [
       "Index(['title', 'score', 'id', 'url', 'comms_num', 'created', 'body',\n",
       "       'no_sleep', 'taget_col'],\n",
       "      dtype='object')"
      ]
     },
     "execution_count": 24,
     "metadata": {},
     "output_type": "execute_result"
    }
   ],
   "source": [
    "nosleep_df.columns"
   ]
  },
  {
   "cell_type": "code",
   "execution_count": 25,
   "metadata": {},
   "outputs": [],
   "source": [
    "nosleep_df = nosleep_df.drop(columns=['title', 'score', 'id', 'url', 'comms_num', 'created', 'body'])"
   ]
  },
  {
   "cell_type": "code",
   "execution_count": 26,
   "metadata": {
    "scrolled": true
   },
   "outputs": [
    {
     "data": {
      "text/plain": [
       "(5000, 2)"
      ]
     },
     "execution_count": 26,
     "metadata": {},
     "output_type": "execute_result"
    }
   ],
   "source": [
    "nosleep_df.shape"
   ]
  },
  {
   "cell_type": "markdown",
   "metadata": {},
   "source": [
    "### Combine DataFrames"
   ]
  },
  {
   "cell_type": "code",
   "execution_count": 53,
   "metadata": {},
   "outputs": [
    {
     "data": {
      "text/html": [
       "<div>\n",
       "<style scoped>\n",
       "    .dataframe tbody tr th:only-of-type {\n",
       "        vertical-align: middle;\n",
       "    }\n",
       "\n",
       "    .dataframe tbody tr th {\n",
       "        vertical-align: top;\n",
       "    }\n",
       "\n",
       "    .dataframe thead th {\n",
       "        text-align: right;\n",
       "    }\n",
       "</style>\n",
       "<table border=\"1\" class=\"dataframe\">\n",
       "  <thead>\n",
       "    <tr style=\"text-align: right;\">\n",
       "      <th></th>\n",
       "      <th>text</th>\n",
       "      <th>taget_col</th>\n",
       "    </tr>\n",
       "  </thead>\n",
       "  <tbody>\n",
       "    <tr>\n",
       "      <td>0</td>\n",
       "      <td>Name for the Same: \\nWhatever else I tell you,...</td>\n",
       "      <td>1</td>\n",
       "    </tr>\n",
       "    <tr>\n",
       "      <td>1</td>\n",
       "      <td>Im stuck in a school with [REDACTED]:</td>\n",
       "      <td>1</td>\n",
       "    </tr>\n",
       "    <tr>\n",
       "      <td>2</td>\n",
       "      <td>Superstitious Tradesman?: I am a Plumbers appr...</td>\n",
       "      <td>1</td>\n",
       "    </tr>\n",
       "    <tr>\n",
       "      <td>3</td>\n",
       "      <td>log 01. im not crazy TY9932.oaw:</td>\n",
       "      <td>1</td>\n",
       "    </tr>\n",
       "    <tr>\n",
       "      <td>4</td>\n",
       "      <td>Souvenirs: Somehow, I knew it would be a bad i...</td>\n",
       "      <td>1</td>\n",
       "    </tr>\n",
       "    <tr>\n",
       "      <td>...</td>\n",
       "      <td>...</td>\n",
       "      <td>...</td>\n",
       "    </tr>\n",
       "    <tr>\n",
       "      <td>4995</td>\n",
       "      <td>I moved to maine with my dying sister. I found...</td>\n",
       "      <td>1</td>\n",
       "    </tr>\n",
       "    <tr>\n",
       "      <td>4996</td>\n",
       "      <td>Never going to my grandmas house again:</td>\n",
       "      <td>1</td>\n",
       "    </tr>\n",
       "    <tr>\n",
       "      <td>4997</td>\n",
       "      <td>Never going to my grandmas house again:</td>\n",
       "      <td>1</td>\n",
       "    </tr>\n",
       "    <tr>\n",
       "      <td>4998</td>\n",
       "      <td>The Horse and The Sickness: The snowstorm of ’...</td>\n",
       "      <td>1</td>\n",
       "    </tr>\n",
       "    <tr>\n",
       "      <td>4999</td>\n",
       "      <td>The Childless Mother: Morrow took me into the ...</td>\n",
       "      <td>1</td>\n",
       "    </tr>\n",
       "  </tbody>\n",
       "</table>\n",
       "<p>5000 rows × 2 columns</p>\n",
       "</div>"
      ],
      "text/plain": [
       "                                                   text  taget_col\n",
       "0     Name for the Same: \\nWhatever else I tell you,...          1\n",
       "1                Im stuck in a school with [REDACTED]:           1\n",
       "2     Superstitious Tradesman?: I am a Plumbers appr...          1\n",
       "3                     log 01. im not crazy TY9932.oaw:           1\n",
       "4     Souvenirs: Somehow, I knew it would be a bad i...          1\n",
       "...                                                 ...        ...\n",
       "4995  I moved to maine with my dying sister. I found...          1\n",
       "4996           Never going to my grandmas house again:           1\n",
       "4997           Never going to my grandmas house again:           1\n",
       "4998  The Horse and The Sickness: The snowstorm of ’...          1\n",
       "4999  The Childless Mother: Morrow took me into the ...          1\n",
       "\n",
       "[5000 rows x 2 columns]"
      ]
     },
     "execution_count": 53,
     "metadata": {},
     "output_type": "execute_result"
    }
   ],
   "source": [
    "nosleep_df.head()"
   ]
  },
  {
   "cell_type": "code",
   "execution_count": 51,
   "metadata": {},
   "outputs": [
    {
     "data": {
      "text/html": [
       "<div>\n",
       "<style scoped>\n",
       "    .dataframe tbody tr th:only-of-type {\n",
       "        vertical-align: middle;\n",
       "    }\n",
       "\n",
       "    .dataframe tbody tr th {\n",
       "        vertical-align: top;\n",
       "    }\n",
       "\n",
       "    .dataframe thead th {\n",
       "        text-align: right;\n",
       "    }\n",
       "</style>\n",
       "<table border=\"1\" class=\"dataframe\">\n",
       "  <thead>\n",
       "    <tr style=\"text-align: right;\">\n",
       "      <th></th>\n",
       "      <th>text</th>\n",
       "      <th>taget_col</th>\n",
       "    </tr>\n",
       "  </thead>\n",
       "  <tbody>\n",
       "    <tr>\n",
       "      <td>0</td>\n",
       "      <td>I woke up with broken ankles.: Three days ago ...</td>\n",
       "      <td>0</td>\n",
       "    </tr>\n",
       "    <tr>\n",
       "      <td>1</td>\n",
       "      <td>Where did I come from?: My name is Troy Finch ...</td>\n",
       "      <td>0</td>\n",
       "    </tr>\n",
       "    <tr>\n",
       "      <td>2</td>\n",
       "      <td>If you get a text from this number never respo...</td>\n",
       "      <td>0</td>\n",
       "    </tr>\n",
       "    <tr>\n",
       "      <td>3</td>\n",
       "      <td>The Playground Creepypasta: Hello my name is K...</td>\n",
       "      <td>0</td>\n",
       "    </tr>\n",
       "    <tr>\n",
       "      <td>4</td>\n",
       "      <td>My Unwilling Contribution to Science: \\n \\nMy ...</td>\n",
       "      <td>0</td>\n",
       "    </tr>\n",
       "    <tr>\n",
       "      <td>...</td>\n",
       "      <td>...</td>\n",
       "      <td>...</td>\n",
       "    </tr>\n",
       "    <tr>\n",
       "      <td>4995</td>\n",
       "      <td>Horror Short Film \"Ella\" | Presented by ALTER:</td>\n",
       "      <td>0</td>\n",
       "    </tr>\n",
       "    <tr>\n",
       "      <td>4996</td>\n",
       "      <td>X EYES (I might make a creepy pasta about it:</td>\n",
       "      <td>0</td>\n",
       "    </tr>\n",
       "    <tr>\n",
       "      <td>4997</td>\n",
       "      <td>Creepypasta reading with good acting- any reco...</td>\n",
       "      <td>0</td>\n",
       "    </tr>\n",
       "    <tr>\n",
       "      <td>4998</td>\n",
       "      <td>I just re-watched this lots of fun if you have...</td>\n",
       "      <td>0</td>\n",
       "    </tr>\n",
       "    <tr>\n",
       "      <td>4999</td>\n",
       "      <td>One of my favourite horror movies if you haven...</td>\n",
       "      <td>0</td>\n",
       "    </tr>\n",
       "  </tbody>\n",
       "</table>\n",
       "<p>5000 rows × 2 columns</p>\n",
       "</div>"
      ],
      "text/plain": [
       "                                                   text  taget_col\n",
       "0     I woke up with broken ankles.: Three days ago ...          0\n",
       "1     Where did I come from?: My name is Troy Finch ...          0\n",
       "2     If you get a text from this number never respo...          0\n",
       "3     The Playground Creepypasta: Hello my name is K...          0\n",
       "4     My Unwilling Contribution to Science: \\n \\nMy ...          0\n",
       "...                                                 ...        ...\n",
       "4995    Horror Short Film \"Ella\" | Presented by ALTER:           0\n",
       "4996     X EYES (I might make a creepy pasta about it:           0\n",
       "4997  Creepypasta reading with good acting- any reco...          0\n",
       "4998  I just re-watched this lots of fun if you have...          0\n",
       "4999  One of my favourite horror movies if you haven...          0\n",
       "\n",
       "[5000 rows x 2 columns]"
      ]
     },
     "execution_count": 51,
     "metadata": {},
     "output_type": "execute_result"
    }
   ],
   "source": [
    "creepy_df.head()"
   ]
  },
  {
   "cell_type": "code",
   "execution_count": null,
   "metadata": {},
   "outputs": [],
   "source": []
  },
  {
   "cell_type": "code",
   "execution_count": 59,
   "metadata": {},
   "outputs": [],
   "source": [
    "clean_df = pd.concat([creepy_df, nosleep_df])"
   ]
  },
  {
   "cell_type": "code",
   "execution_count": 64,
   "metadata": {},
   "outputs": [],
   "source": [
    "clean_df.reset_index(inplace=True)"
   ]
  },
  {
   "cell_type": "code",
   "execution_count": 65,
   "metadata": {},
   "outputs": [],
   "source": [
    "clean_df = clean_df.drop(columns='index')"
   ]
  },
  {
   "cell_type": "code",
   "execution_count": 67,
   "metadata": {},
   "outputs": [],
   "source": [
    "clean_df;"
   ]
  },
  {
   "cell_type": "code",
   "execution_count": 68,
   "metadata": {},
   "outputs": [],
   "source": [
    "clean_df.to_csv(path_or_buf='data/clean_data.csv', index=False)"
   ]
  },
  {
   "cell_type": "code",
   "execution_count": null,
   "metadata": {},
   "outputs": [],
   "source": []
  },
  {
   "cell_type": "code",
   "execution_count": null,
   "metadata": {},
   "outputs": [],
   "source": []
  },
  {
   "cell_type": "code",
   "execution_count": null,
   "metadata": {},
   "outputs": [],
   "source": []
  },
  {
   "cell_type": "code",
   "execution_count": null,
   "metadata": {},
   "outputs": [],
   "source": []
  },
  {
   "cell_type": "code",
   "execution_count": null,
   "metadata": {},
   "outputs": [],
   "source": []
  },
  {
   "cell_type": "code",
   "execution_count": null,
   "metadata": {},
   "outputs": [],
   "source": []
  },
  {
   "cell_type": "code",
   "execution_count": null,
   "metadata": {},
   "outputs": [],
   "source": []
  },
  {
   "cell_type": "code",
   "execution_count": null,
   "metadata": {},
   "outputs": [],
   "source": []
  },
  {
   "cell_type": "code",
   "execution_count": null,
   "metadata": {},
   "outputs": [],
   "source": []
  }
 ],
 "metadata": {
  "kernelspec": {
   "display_name": "Python 3",
   "language": "python",
   "name": "python3"
  },
  "language_info": {
   "codemirror_mode": {
    "name": "ipython",
    "version": 3
   },
   "file_extension": ".py",
   "mimetype": "text/x-python",
   "name": "python",
   "nbconvert_exporter": "python",
   "pygments_lexer": "ipython3",
   "version": "3.7.3"
  }
 },
 "nbformat": 4,
 "nbformat_minor": 2
}
